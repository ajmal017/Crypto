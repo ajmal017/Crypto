{
 "cells": [
  {
   "cell_type": "code",
   "execution_count": 1,
   "metadata": {},
   "outputs": [],
   "source": [
    "from modules import Kraken"
   ]
  },
  {
   "cell_type": "code",
   "execution_count": 2,
   "metadata": {},
   "outputs": [],
   "source": [
    "constructor = Kraken(pair = 'DASH/EUR', api_key_file = 'kraken.key', minimum_fund=1000, percent_alloc=1)"
   ]
  },
  {
   "cell_type": "code",
   "execution_count": 3,
   "metadata": {},
   "outputs": [
    {
     "name": "stdout",
     "output_type": "stream",
     "text": [
      "daily bearish ssl for 10 period\n",
      "daily price in neutral for 4 qunatilize zone\n",
      "daily uptrend pivot 2020-10-15 20:00:00 Mom: -0.76 Acc: 3.79\n",
      "daily bearish momentum regression line slope for last 10 days period: -0.27910303030303035\n",
      "daily bullish ema 200 to close 0.1725719988726817\n",
      "daily total score: 0\n"
     ]
    },
    {
     "data": {
      "text/plain": [
       "0"
      ]
     },
     "execution_count": 3,
     "metadata": {},
     "output_type": "execute_result"
    }
   ],
   "source": [
    "constructor.daily_analysis(interval_daily = 24*60, bars_daily = 300, period_ema_daily = 200,\n",
    "                            period_ssl_daily = 10, rolling_reg_period = 10, zone_quantile = 4)"
   ]
  },
  {
   "cell_type": "code",
   "execution_count": null,
   "metadata": {
    "scrolled": true
   },
   "outputs": [
    {
     "name": "stdout",
     "output_type": "stream",
     "text": [
      "------------------------------------------------------------------------\n",
      "2020-10-19 09:00:00 hourly candle in progress\n",
      "starting 2020-10-19 09:35:00 5min candle\n",
      "pattern not met\n",
      "------------------------------------------------------------------------\n",
      "2020-10-19 09:00:00 hourly candle in progress\n",
      "starting 2020-10-19 09:40:00 5min candle\n",
      "pattern not met\n",
      "------------------------------------------------------------------------\n",
      "2020-10-19 09:00:00 hourly candle in progress\n",
      "starting 2020-10-19 09:45:00 5min candle\n",
      "pattern not met\n",
      "------------------------------------------------------------------------\n",
      "2020-10-19 09:00:00 hourly candle in progress\n",
      "starting 2020-10-19 09:50:00 5min candle\n",
      "pattern not met\n",
      "------------------------------------------------------------------------\n",
      "2020-10-19 09:00:00 hourly candle in progress\n",
      "starting 2020-10-19 09:55:00 5min candle\n",
      "pattern not met\n",
      "------------------------------------------------------------------------\n",
      "2020-10-19 10:00:00 hourly candle in progress\n",
      "starting 2020-10-19 10:00:00 5min candle\n",
      "pattern not met\n"
     ]
    }
   ],
   "source": [
    "constructor.live_pattern(interval_5min = 5, bars_5min = 1000, period_ema_5min = 50, \n",
    "                         interval_hourly = 60 , bars_hourly = 1000, period_ssl = 10,quantiles =3)"
   ]
  },
  {
   "cell_type": "code",
   "execution_count": null,
   "metadata": {},
   "outputs": [],
   "source": []
  },
  {
   "cell_type": "code",
   "execution_count": null,
   "metadata": {},
   "outputs": [],
   "source": []
  }
 ],
 "metadata": {
  "kernelspec": {
   "display_name": "Python 3",
   "language": "python",
   "name": "python3"
  },
  "language_info": {
   "codemirror_mode": {
    "name": "ipython",
    "version": 3
   },
   "file_extension": ".py",
   "mimetype": "text/x-python",
   "name": "python",
   "nbconvert_exporter": "python",
   "pygments_lexer": "ipython3",
   "version": "3.6.9"
  }
 },
 "nbformat": 4,
 "nbformat_minor": 4
}
