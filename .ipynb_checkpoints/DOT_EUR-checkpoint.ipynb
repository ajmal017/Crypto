{
 "cells": [
  {
   "cell_type": "code",
   "execution_count": 1,
   "metadata": {},
   "outputs": [],
   "source": [
    "from modules import Kraken"
   ]
  },
  {
   "cell_type": "code",
   "execution_count": 2,
   "metadata": {},
   "outputs": [],
   "source": [
    "constructor = Kraken(pair = 'DASH/EUR', api_key_file = 'kraken.key')"
   ]
  },
  {
   "cell_type": "code",
   "execution_count": null,
   "metadata": {
    "scrolled": true
   },
   "outputs": [
    {
     "name": "stdout",
     "output_type": "stream",
     "text": [
      "2020-09-06 08:00:00\n",
      "4.635086135069529 minutes sleep time\n",
      "2020-09-06 08:05:00\n",
      "4.836860358715057 minutes sleep time\n",
      "2020-09-06 08:10:00\n",
      "4.87745722134908 minutes sleep time\n",
      "2020-09-06 08:15:00\n",
      "4.856506570180257 minutes sleep time\n",
      "2020-09-06 08:20:00\n",
      "4.874644867579142 minutes sleep time\n",
      "2020-09-06 08:25:00\n",
      "4.887070290247599 minutes sleep time\n",
      "2020-09-06 08:30:00\n",
      "4.838729532559713 minutes sleep time\n"
     ]
    }
   ],
   "source": [
    "constructor.live_engulfing_pattern(interval_ssl = 60, bars_ssl = 100, period_ssl = 10, \n",
    "                                interval_ema = 5, bars_ema = 200, period_ema = 50)"
   ]
  },
  {
   "cell_type": "code",
   "execution_count": null,
   "metadata": {},
   "outputs": [],
   "source": []
  },
  {
   "cell_type": "code",
   "execution_count": null,
   "metadata": {},
   "outputs": [],
   "source": []
  }
 ],
 "metadata": {
  "kernelspec": {
   "display_name": "Python 3",
   "language": "python",
   "name": "python3"
  },
  "language_info": {
   "codemirror_mode": {
    "name": "ipython",
    "version": 3
   },
   "file_extension": ".py",
   "mimetype": "text/x-python",
   "name": "python",
   "nbconvert_exporter": "python",
   "pygments_lexer": "ipython3",
   "version": "3.6.9"
  }
 },
 "nbformat": 4,
 "nbformat_minor": 4
}
