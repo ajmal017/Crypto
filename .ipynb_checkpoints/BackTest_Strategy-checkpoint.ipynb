{
 "cells": [
  {
   "cell_type": "code",
   "execution_count": 1,
   "metadata": {},
   "outputs": [],
   "source": [
    "import numpy as np\n",
    "import pandas as pd\n",
    "import yfinance as yf\n",
    "from modules import Kraken\n",
    "from modules import TrendLine"
   ]
  },
  {
   "cell_type": "code",
   "execution_count": 2,
   "metadata": {},
   "outputs": [],
   "source": [
    "import datetime\n",
    "import matplotlib.dates as mdates\n",
    "from pandas.plotting import register_matplotlib_converters\n",
    "register_matplotlib_converters()\n",
    "import matplotlib.pyplot as plt "
   ]
  },
  {
   "cell_type": "code",
   "execution_count": 3,
   "metadata": {},
   "outputs": [],
   "source": [
    "from sklearn.linear_model import LinearRegression"
   ]
  },
  {
   "cell_type": "code",
   "execution_count": 4,
   "metadata": {},
   "outputs": [],
   "source": [
    "constructor = Kraken(pair = 'BTC/EUR', api_key_file = 'kraken.key',minimum_fund = 500, percent_fund = 0.5)"
   ]
  },
  {
   "cell_type": "code",
   "execution_count": 5,
   "metadata": {},
   "outputs": [
    {
     "data": {
      "text/plain": [
       "0.5"
      ]
     },
     "execution_count": 5,
     "metadata": {},
     "output_type": "execute_result"
    }
   ],
   "source": [
    "constructor.percent_fund"
   ]
  },
  {
   "cell_type": "code",
   "execution_count": 6,
   "metadata": {},
   "outputs": [
    {
     "ename": "AttributeError",
     "evalue": "'int' object has no attribute 'low'",
     "output_type": "error",
     "traceback": [
      "\u001b[0;31m---------------------------------------------------------------------------\u001b[0m",
      "\u001b[0;31mAttributeError\u001b[0m                            Traceback (most recent call last)",
      "\u001b[0;32m<ipython-input-6-5f87107de033>\u001b[0m in \u001b[0;36m<module>\u001b[0;34m\u001b[0m\n\u001b[1;32m     13\u001b[0m \u001b[0;34m\u001b[0m\u001b[0m\n\u001b[1;32m     14\u001b[0m \u001b[0;34m\u001b[0m\u001b[0m\n\u001b[0;32m---> 15\u001b[0;31m \u001b[0mdf_ssl\u001b[0m \u001b[0;34m=\u001b[0m \u001b[0mconstructor\u001b[0m\u001b[0;34m.\u001b[0m\u001b[0mssl\u001b[0m\u001b[0;34m(\u001b[0m\u001b[0;36m15\u001b[0m\u001b[0;34m,\u001b[0m \u001b[0mdf_ssl\u001b[0m\u001b[0;34m)\u001b[0m\u001b[0;34m\u001b[0m\u001b[0;34m\u001b[0m\u001b[0m\n\u001b[0m\u001b[1;32m     16\u001b[0m \u001b[0mdf_ema\u001b[0m \u001b[0;34m=\u001b[0m \u001b[0mconstructor\u001b[0m\u001b[0;34m.\u001b[0m\u001b[0mema\u001b[0m\u001b[0;34m(\u001b[0m\u001b[0;36m50\u001b[0m\u001b[0;34m,\u001b[0m \u001b[0mdf_ema\u001b[0m\u001b[0;34m)\u001b[0m\u001b[0;34m\u001b[0m\u001b[0;34m\u001b[0m\u001b[0m\n\u001b[1;32m     17\u001b[0m \u001b[0mdf_daily\u001b[0m \u001b[0;34m=\u001b[0m \u001b[0mconstructor\u001b[0m\u001b[0;34m.\u001b[0m\u001b[0mema\u001b[0m\u001b[0;34m(\u001b[0m\u001b[0;36m200\u001b[0m\u001b[0;34m,\u001b[0m \u001b[0mdf_daily\u001b[0m\u001b[0;34m)\u001b[0m\u001b[0;34m\u001b[0m\u001b[0;34m\u001b[0m\u001b[0m\n",
      "\u001b[0;32m~/Desktop/Programming/Crypto/modules/kraken_api.py\u001b[0m in \u001b[0;36mssl\u001b[0;34m(self, df_ssl, period_ssl)\u001b[0m\n\u001b[1;32m    338\u001b[0m \u001b[0;34m\u001b[0m\u001b[0m\n\u001b[1;32m    339\u001b[0m         \u001b[0;31m#function ssl\u001b[0m\u001b[0;34m\u001b[0m\u001b[0;34m\u001b[0m\u001b[0;34m\u001b[0m\u001b[0m\n\u001b[0;32m--> 340\u001b[0;31m         \u001b[0mlow\u001b[0m \u001b[0;34m=\u001b[0m \u001b[0mdf_ssl\u001b[0m\u001b[0;34m.\u001b[0m\u001b[0mlow\u001b[0m\u001b[0;34m.\u001b[0m\u001b[0mvalues\u001b[0m\u001b[0;34m\u001b[0m\u001b[0;34m\u001b[0m\u001b[0m\n\u001b[0m\u001b[1;32m    341\u001b[0m         \u001b[0mhigh\u001b[0m \u001b[0;34m=\u001b[0m \u001b[0mdf_ssl\u001b[0m\u001b[0;34m.\u001b[0m\u001b[0mhigh\u001b[0m\u001b[0;34m.\u001b[0m\u001b[0mvalues\u001b[0m\u001b[0;34m\u001b[0m\u001b[0;34m\u001b[0m\u001b[0m\n\u001b[1;32m    342\u001b[0m \u001b[0;34m\u001b[0m\u001b[0m\n",
      "\u001b[0;31mAttributeError\u001b[0m: 'int' object has no attribute 'low'"
     ]
    }
   ],
   "source": [
    "df_daily = constructor.ohlcv(60*24,300)\n",
    "df_ssl = constructor.ohlcv(60,300)\n",
    "df_ema = constructor.ohlcv(5,200)\n",
    "\n",
    "\n",
    "bull,bear = constructor.tr_zones(df_daily, 4)\n",
    "bull_h,bear_h = constructor.tr_zones(df_ssl, 3)\n",
    "\n",
    "df_ssl = constructor.stochastic(df_ssl)\n",
    "\n",
    "df_ssl = constructor.recognize_candlestick(df_ssl)\n",
    "df_ema = constructor.recognize_candlestick(df_ema)\n",
    "\n",
    "\n",
    "df_ssl = constructor.ssl(df_ssl, 15)\n",
    "df_ema = constructor.ema(df_ema, 50)\n",
    "df_daily = constructor.ema(df_daily,144)"
   ]
  },
  {
   "cell_type": "code",
   "execution_count": null,
   "metadata": {},
   "outputs": [],
   "source": [
    "tr = TrendLine(df = df_ssl, errpct= 0.005, col = 'close')\n",
    "tr_daily = TrendLine(df = df_daily, errpct= 0.005, col = 'close')"
   ]
  },
  {
   "cell_type": "code",
   "execution_count": null,
   "metadata": {},
   "outputs": [],
   "source": [
    "minimaIdxs, maximaIdxs = tr.get_extrema(True), tr.get_extrema(False)\n",
    "minimaIdxs_daily, maximaIdxs_daily = tr_daily.get_extrema(True), tr_daily.get_extrema(False)"
   ]
  },
  {
   "cell_type": "code",
   "execution_count": null,
   "metadata": {},
   "outputs": [],
   "source": [
    "#mintrend, maxtrend = tr.houghpt_trendln(minimaIdxs), tr.houghpt_trendln(maximaIdxs)\n",
    "#mintrend, maxtrend = tr.naive_trendln(minimaIdxs), tr.naive_trendln(maximaIdxs)\n",
    "mintrend, maxtrend = tr.sorted_slope_trendln(minimaIdxs), tr.sorted_slope_trendln(maximaIdxs)\n",
    "mintrend_daily, maxtrend_daily = tr_daily.sorted_slope_trendln(minimaIdxs_daily), tr_daily.sorted_slope_trendln(maximaIdxs_daily)\n",
    "#mintrend, maxtrend = tr.hough_trendln(minimaIdxs), tr.hough_trendln(maximaIdxs)"
   ]
  },
  {
   "cell_type": "code",
   "execution_count": null,
   "metadata": {},
   "outputs": [],
   "source": [
    "df,m_mid,c_mid = tr.trendln(mintrend,maxtrend)\n",
    "df_daily,m_mid_daily,c_mid_daily = tr_daily.trendln(mintrend_daily,maxtrend_daily)"
   ]
  },
  {
   "cell_type": "code",
   "execution_count": null,
   "metadata": {},
   "outputs": [],
   "source": [
    "bull_pattern = df_ema[['close','candlestick_pattern','candlestick_match_count']][df_ema['candlestick_match_count'] >= 4]\n",
    "bear_pattern = df_ema[['close','candlestick_pattern','candlestick_match_count']][df_ema['candlestick_match_count'] <= -4]"
   ]
  },
  {
   "cell_type": "code",
   "execution_count": null,
   "metadata": {},
   "outputs": [],
   "source": [
    "def rolling_regression(df,reg_range):\n",
    "\n",
    "    multi_reg = []\n",
    "    for i in range(0,len(df.index),10): \n",
    "        \n",
    "        j= i +10\n",
    "        \n",
    "        if i == 0:\n",
    "            x = np.array(range(len(df.close.index)))[-j:].reshape(-1,1)\n",
    "            y = df.close.iloc[-j:].values.reshape(-1,1)\n",
    "            \n",
    "        else:\n",
    "            x = np.array(range(len(df.close.index)))[-j:-i].reshape(-1,1)\n",
    "            y = df.close.iloc[-j:-i].values.reshape(-1,1)\n",
    "            \n",
    "\n",
    "        reg = LinearRegression().fit(X = x, y = y)\n",
    "        y_pred = reg.predict(x).flatten()\n",
    "        multi_reg.append([y_pred,x,y,reg.coef_[0]])\n",
    "        \n",
    "    return multi_reg"
   ]
  },
  {
   "cell_type": "code",
   "execution_count": null,
   "metadata": {},
   "outputs": [],
   "source": [
    "multi_reg = rolling_regression(df_daily, 10)"
   ]
  },
  {
   "cell_type": "code",
   "execution_count": null,
   "metadata": {},
   "outputs": [],
   "source": []
  },
  {
   "cell_type": "markdown",
   "metadata": {},
   "source": [
    "## Visual"
   ]
  },
  {
   "cell_type": "code",
   "execution_count": null,
   "metadata": {},
   "outputs": [],
   "source": [
    "fig, ax = plt.subplots(3, 1,figsize=(30, 20))\n",
    "\n",
    "ax[1].plot(df.close,\n",
    "        color='k')\n",
    "\n",
    "ax[2].plot(df_ema.close,\n",
    "        color='k')\n",
    "\n",
    "ax[0].plot(df_daily.close,\n",
    "        color='k')\n",
    "ax[0].plot(df_daily.ema,\n",
    "        color='orange')\n",
    "ax[2].plot(df_ema.ema,\n",
    "        color='blue')\n",
    "\n",
    "ax[0].axhline(y= max(df_daily.close),color='gray', ls = ':')\n",
    "ax[0].axhline(y= min(df_daily.close),color='gray', ls = ':')\n",
    "ax[0].axhline(y= bear, color='gray', ls = ':')\n",
    "ax[0].axhline(y= bull, color='gray', ls = ':')\n",
    "\n",
    "\n",
    "ax[0].fill_between(df_daily.index, max(df_daily.close), bear, color = 'red',\n",
    "                   alpha=0.2, interpolate=True)\n",
    "ax[0].fill_between(df_daily.index, min(df_daily.close), bull, color = 'green',\n",
    "                   alpha=0.2, interpolate=True)\n",
    "\n",
    "\n",
    "ax[1].axhline(y= max(df_ssl.close),color='gray', ls = ':')\n",
    "ax[1].axhline(y= min(df_ssl.close),color='gray', ls = ':')\n",
    "ax[1].axhline(y= bear_h, color='gray', ls = ':')\n",
    "ax[1].axhline(y= bull_h, color='gray', ls = ':')\n",
    "\n",
    "\n",
    "ax[1].fill_between(df_ssl.index, max(df_ssl.close), bear_h, color = 'red',\n",
    "                   alpha=0.2, interpolate=True)\n",
    "ax[1].fill_between(df_ssl.index, min(df_ssl.close), bull_h, color = 'green',\n",
    "                   alpha=0.2, interpolate=True)\n",
    "\n",
    "\n",
    "\n",
    "ax[0].scatter(df_daily.close.iloc[maximaIdxs_daily].index,\n",
    "           df_daily.close.iloc[maximaIdxs_daily].values,color = 'blue',edgecolors = 'k')\n",
    "\n",
    "ax[0].scatter(df_daily.close.iloc[minimaIdxs_daily].index,\n",
    "           df_daily.close.iloc[minimaIdxs_daily].values,color = 'orange',edgecolors = 'k')\n",
    "\n",
    "\n",
    "ax[1].scatter(df.close.iloc[maximaIdxs].index,\n",
    "           df.close.iloc[maximaIdxs].values,color = 'blue',edgecolors = 'k')\n",
    "\n",
    "ax[1].scatter(df.close.iloc[minimaIdxs].index,\n",
    "           df.close.iloc[minimaIdxs].values,color = 'orange',edgecolors = 'k')\n",
    "\n",
    "for t in bull_pattern.index:\n",
    "    \n",
    "    ax[2].annotate('', xy=(t,bull_pattern.close.loc[t]), xytext=(t,bull_pattern.close.loc[t]*0.999),\n",
    "                arrowprops={'arrowstyle': '->', 'lw': 5, 'color': 'yellow'},\n",
    "                )\n",
    "\n",
    "for t in bear_pattern.index:\n",
    "    \n",
    "    ax[2].annotate('', xy=(t,bear_pattern.close.loc[t]), xytext=(t,bear_pattern.close.loc[t]*1.0010),\n",
    "                arrowprops={'arrowstyle': '->', 'lw': 5, 'color': 'purple'},\n",
    "                )\n",
    "# ax.plot(df.support.index,\n",
    "#            df.support.values, color = 'green', ls = ':')\n",
    "\n",
    "# ax.plot(df.resistance.index,\n",
    "#            df.resistance.values, color = 'red', ls = ':')\n",
    "\n",
    "# ax[1].plot(df.mid.index,\n",
    "#            df.mid.values, color = 'blue', ls = ':')\n",
    "\n",
    "for i in multi_reg:\n",
    "\n",
    "    ax[0].plot(np.array(df_daily.index[i[1]]).flatten(),\n",
    "               i[0].flatten(), color = 'blue', lw = 2)\n",
    "\n",
    "for i,t in enumerate(df.index):\n",
    "    if ((df.green[i-1] > df.red[i-1]) and (df.green[i-2] < df.red[i-2]) and (df.green[i-3] < df.red[i-3]) and (df.green[i-4] < df.red[i-4]) and (df.green[i-5] < df.red[i-5]) and (df.green[i-6] < df.red[i-6])) and (df.close[i]<bull_h):\n",
    "        ax[1].annotate('', xy=(t,df.close.loc[t]), xytext=(t,df.close.loc[t]*0.990),\n",
    "                    arrowprops={'arrowstyle': '->', 'lw': 4, 'color': 'green'})\n",
    "        \n",
    "    elif ((df.green[i-1] < df.red[i-1]) and (df.green[i-2] > df.red[i-2]) and (df.green[i-3] > df.red[i-3]) and (df.green[i-4] > df.red[i-4]) and (df.green[i-5] > df.red[i-5]) and (df.green[i-6] > df.red[i-6])) and (df.close[i]>bear_h):\n",
    "        ax[1].annotate('', xy=(t,df.close.loc[t]), xytext=(t,df.close.loc[t]*1.0100),\n",
    "                    arrowprops={'arrowstyle': '->', 'lw': 4, 'color': 'red'})\n",
    "        \n",
    "# ax.plot(df.close.iloc[mintrend[-1][0]], color = 'red')\n",
    "# ax.plot(df.close.iloc[maxtrend[-1][0]],color = 'green')\n",
    "\n",
    "ax[1].fill_between(df.index, df.green, df.red, color = 'green',\n",
    "                   where = (df.red <= df.green),alpha=0.2, interpolate=True)\n",
    "\n",
    "ax[1].fill_between(df.index, df.green, df.red, color = 'red',\n",
    "                   where = (df.red >= df.green),alpha=0.2, interpolate=True)\n",
    "\n",
    "for t in df_daily.iloc[minimaIdxs_daily].index:\n",
    "    ax[0].annotate(df_daily['Mom Acc'].loc[t], (t, df_daily['close'].loc[t]),\n",
    "                textcoords='data',xytext = (t, 0.9700 *df_daily['close'].loc[t]))\n",
    "    \n",
    "for t in df_daily.iloc[minimaIdxs_daily].index:\n",
    "    ax[0].annotate(df_daily['Mom'].loc[t], (t, df_daily['close'].loc[t]),\n",
    "                textcoords='data',xytext = (t, 0.940 *df_daily['close'].loc[t]),color='purple')\n",
    "    \n",
    "for t in df_daily.iloc[maximaIdxs_daily].index:\n",
    "    ax[0].annotate(df_daily['Mom Acc'].loc[t], (t, df_daily['close'].loc[t]),\n",
    "                textcoords='data',xytext = (t, 1.0300 *df_daily['close'].loc[t]))    \n",
    "    \n",
    "for t in df_daily.iloc[maximaIdxs_daily].index:\n",
    "    ax[0].annotate(df_daily['Mom'].loc[t], (t, df_daily['close'].loc[t]),\n",
    "                textcoords='data',xytext = (t, 1.050 *df_daily['close'].loc[t]),color='purple')   \n",
    "    \n",
    "ax[0].set(ylabel=\"Price\",title='daily')\n",
    "ax[1].set(ylabel=\"Price\",title='1 hour')\n",
    "ax[2].set(xlabel = 'time', ylabel=\"Price\",title='5 min')\n",
    "\n",
    "plt.setp(ax[0].get_xticklabels(), rotation=90)\n",
    "plt.setp(ax[1].get_xticklabels(), rotation=90)\n",
    "plt.setp(ax[2].get_xticklabels(), rotation=90)\n",
    "\n",
    "ax[0].grid(True)\n",
    "ax[1].grid(True)\n",
    "ax[2].grid(True)\n",
    "\n",
    "ax[0].xaxis.set_major_locator(mdates.DayLocator(interval=2)) \n",
    "ax[1].xaxis.set_major_locator(mdates.DayLocator(interval=6)) \n",
    "ax[2].xaxis.set_major_locator(mdates.DayLocator(interval=2)) \n",
    "\n",
    "\n",
    "fig.tight_layout()\n",
    "plt.show();"
   ]
  },
  {
   "cell_type": "code",
   "execution_count": null,
   "metadata": {},
   "outputs": [],
   "source": []
  },
  {
   "cell_type": "code",
   "execution_count": null,
   "metadata": {},
   "outputs": [],
   "source": []
  }
 ],
 "metadata": {
  "kernelspec": {
   "display_name": "Python 3",
   "language": "python",
   "name": "python3"
  },
  "language_info": {
   "codemirror_mode": {
    "name": "ipython",
    "version": 3
   },
   "file_extension": ".py",
   "mimetype": "text/x-python",
   "name": "python",
   "nbconvert_exporter": "python",
   "pygments_lexer": "ipython3",
   "version": "3.6.9"
  }
 },
 "nbformat": 4,
 "nbformat_minor": 4
}
