{
 "cells": [
  {
   "cell_type": "code",
   "execution_count": 1,
   "metadata": {},
   "outputs": [],
   "source": [
    "from modules import Kraken"
   ]
  },
  {
   "cell_type": "code",
   "execution_count": 2,
   "metadata": {},
   "outputs": [],
   "source": [
    "constructor = Kraken(pair = 'BTC/EUR', api_key_file = 'kraken.key')"
   ]
  },
  {
   "cell_type": "code",
   "execution_count": null,
   "metadata": {
    "scrolled": true
   },
   "outputs": [
    {
     "name": "stdout",
     "output_type": "stream",
     "text": [
      "Start\n",
      "                      close    green      red\n",
      "time                                         \n",
      "2020-09-05 23:00:00  8601.7  8613.71  8463.88\n",
      "2020-09-06 00:00:00  8505.0  8613.21  8474.84\n",
      "2020-09-06 01:00:00  8562.3  8608.08  8484.47\n",
      "2020-09-06 02:00:00  8600.1  8613.67  8500.02\n",
      "2020-09-06 03:00:00  8600.1  8617.34  8514.42\n",
      "                      close  ema50_to_close\n",
      "time                                       \n",
      "2020-09-06 02:40:00  8551.8       -0.000222\n",
      "2020-09-06 02:45:00  8572.7       -0.002555\n",
      "2020-09-06 02:50:00  8578.9       -0.003148\n",
      "2020-09-06 02:55:00  8600.1       -0.005385\n",
      "2020-09-06 03:00:00  8600.1       -0.005174\n",
      "waiting for bullish engulfing pattern...\n",
      "waiting for bearish engulfing pattern...\n",
      "End\n",
      "1.506074273586273 minutes sleep time\n",
      "Start\n",
      "                      close    green      red\n",
      "time                                         \n",
      "2020-09-05 23:00:00  8601.7  8613.71  8463.88\n",
      "2020-09-06 00:00:00  8505.0  8613.21  8474.84\n",
      "2020-09-06 01:00:00  8562.3  8608.08  8484.47\n",
      "2020-09-06 02:00:00  8600.1  8613.67  8500.02\n",
      "2020-09-06 03:00:00  8606.0  8617.34  8514.42\n",
      "                      close  ema50_to_close\n",
      "time                                       \n",
      "2020-09-06 02:45:00  8572.7       -0.002555\n",
      "2020-09-06 02:50:00  8578.9       -0.003147\n",
      "2020-09-06 02:55:00  8600.1       -0.005385\n",
      "2020-09-06 03:00:00  8604.7       -0.005684\n",
      "2020-09-06 03:05:00  8606.0       -0.005606\n",
      "waiting for bullish engulfing pattern...\n",
      "waiting for bearish engulfing pattern...\n",
      "End\n",
      "4.908567682902018 minutes sleep time\n",
      "Start\n",
      "                      close    green      red\n",
      "time                                         \n",
      "2020-09-05 23:00:00  8601.7  8613.71  8463.88\n",
      "2020-09-06 00:00:00  8505.0  8613.21  8474.84\n",
      "2020-09-06 01:00:00  8562.3  8608.08  8484.47\n",
      "2020-09-06 02:00:00  8600.1  8613.67  8500.02\n",
      "2020-09-06 03:00:00  8593.9  8617.34  8513.80\n",
      "                      close  ema50_to_close\n",
      "time                                       \n",
      "2020-09-06 02:50:00  8578.9       -0.003147\n",
      "2020-09-06 02:55:00  8600.1       -0.005384\n",
      "2020-09-06 03:00:00  8604.7       -0.005684\n",
      "2020-09-06 03:05:00  8593.9       -0.004260\n",
      "2020-09-06 03:10:00  8593.9       -0.004093\n",
      "waiting for bullish engulfing pattern...\n",
      "waiting for bearish engulfing pattern...\n",
      "End\n",
      "4.921817807356517 minutes sleep time\n"
     ]
    }
   ],
   "source": [
    "constructor.test(interval_ssl = 60, bars_ssl = 100, period_ssl = 10, \n",
    "                                interval_ema = 5, bars_ema = 200, period_ema = 50)"
   ]
  },
  {
   "cell_type": "code",
   "execution_count": null,
   "metadata": {},
   "outputs": [],
   "source": []
  },
  {
   "cell_type": "code",
   "execution_count": null,
   "metadata": {},
   "outputs": [],
   "source": []
  }
 ],
 "metadata": {
  "kernelspec": {
   "display_name": "Python 3",
   "language": "python",
   "name": "python3"
  },
  "language_info": {
   "codemirror_mode": {
    "name": "ipython",
    "version": 3
   },
   "file_extension": ".py",
   "mimetype": "text/x-python",
   "name": "python",
   "nbconvert_exporter": "python",
   "pygments_lexer": "ipython3",
   "version": "3.6.9"
  }
 },
 "nbformat": 4,
 "nbformat_minor": 4
}
