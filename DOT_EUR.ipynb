{
 "cells": [
  {
   "cell_type": "code",
   "execution_count": 1,
   "metadata": {},
   "outputs": [],
   "source": [
    "from modules import Kraken"
   ]
  },
  {
   "cell_type": "code",
   "execution_count": 2,
   "metadata": {},
   "outputs": [],
   "source": [
    "constructor = Kraken(pair = 'DOT/EUR', api_key_file = 'kraken.key',minimum_fund = 1000)"
   ]
  },
  {
   "cell_type": "code",
   "execution_count": null,
   "metadata": {
    "scrolled": true
   },
   "outputs": [
    {
     "name": "stdout",
     "output_type": "stream",
     "text": [
      "------------------------------------------------------------------------\n",
      "starting 2020-09-17 11:00:00 5min candle\n",
      "2020-09-17 11:00:00 hourly candle in progress\n",
      "ema pivot bull 2020-09-17 11:00:00 Mom: -0.0 Acc: 0.0\n",
      "ema pivot bear 2020-09-17 10:40:00 Mom: -0.01 Acc: -0.05\n",
      "ssl mid trend slope 0.0017649647299288142\n",
      "ema mid trend slope 0.0017036601151304365\n",
      "pattern not find\n",
      "4.79 minutes sleep time\n",
      "------------------------------------------------------------------------\n",
      "starting 2020-09-17 11:05:00 5min candle\n",
      "2020-09-17 11:05:00 hourly candle in progress\n",
      "ema pivot bull 2020-09-17 11:00:00 Mom: -0.0 Acc: 0.0\n",
      "ema pivot bear 2020-09-17 10:55:00 Mom: 0.0 Acc: -0.01\n",
      "ssl mid trend slope 0.0010236595094197812\n",
      "ema mid trend slope 0.0009623548946213924\n",
      "pattern not find\n",
      "4.85 minutes sleep time\n",
      "------------------------------------------------------------------------\n",
      "starting 2020-09-17 11:10:00 5min candle\n",
      "2020-09-17 11:10:00 hourly candle in progress\n",
      "ema pivot bull 2020-09-17 10:45:00 Mom: -0.0 Acc: 0.07\n",
      "ema pivot bear 2020-09-17 11:05:00 Mom: 0.01 Acc: -0.02\n",
      "ssl mid trend slope 0.00012196721529672245\n",
      "ema mid trend slope 8.019955709264676e-06\n",
      "pattern not find\n",
      "4.86 minutes sleep time\n",
      "------------------------------------------------------------------------\n",
      "starting 2020-09-17 11:15:00 5min candle\n",
      "2020-09-17 11:15:00 hourly candle in progress\n",
      "ema pivot bull 2020-09-17 10:45:00 Mom: -0.0 Acc: 0.07\n",
      "ema pivot bear 2020-09-17 11:10:00 Mom: 0.0 Acc: -0.01\n",
      "ssl mid trend slope 0.002331283798871818\n",
      "ema mid trend slope 0.002278641154082762\n",
      "pattern not find\n",
      "4.85 minutes sleep time\n",
      "------------------------------------------------------------------------\n",
      "starting 2020-09-17 11:20:00 5min candle\n",
      "2020-09-17 11:20:00 hourly candle in progress\n",
      "ema pivot bull 2020-09-17 10:45:00 Mom: -0.0 Acc: 0.07\n",
      "ema pivot bear 2020-09-17 11:15:00 Mom: 0.02 Acc: -0.05\n",
      "ssl mid trend slope 0.00012196721529673006\n",
      "ema mid trend slope 5.58963317154649e-05\n",
      "pattern not find\n",
      "4.86 minutes sleep time\n",
      "------------------------------------------------------------------------\n",
      "starting 2020-09-17 11:25:00 5min candle\n",
      "2020-09-17 11:25:00 hourly candle in progress\n",
      "ema pivot bull 2020-09-17 11:20:00 Mom: -0.02 Acc: 0.04\n",
      "ema pivot bear 2020-09-17 11:15:00 Mom: 0.0 Acc: -0.08\n",
      "ssl mid trend slope 0.00012196721529672938\n",
      "ema mid trend slope 5.5896331715466396e-05\n",
      "pattern not find\n",
      "4.86 minutes sleep time\n",
      "------------------------------------------------------------------------\n",
      "starting 2020-09-17 11:30:00 5min candle\n",
      "2020-09-17 11:30:00 hourly candle in progress\n",
      "ema pivot bull 2020-09-17 11:25:00 Mom: -0.0 Acc: 0.01\n",
      "ema pivot bear 2020-09-17 11:15:00 Mom: 0.0 Acc: -0.08\n",
      "ssl mid trend slope 0.0001219672152967287\n",
      "ema mid trend slope 8.019955709264205e-06\n",
      "pattern not find\n",
      "4.86 minutes sleep time\n",
      "------------------------------------------------------------------------\n",
      "starting 2020-09-17 11:35:00 5min candle\n",
      "2020-09-17 11:35:00 hourly candle in progress\n",
      "ema pivot bull 2020-09-17 11:30:00 Mom: -0.0 Acc: 0.01\n",
      "ema pivot bear 2020-09-17 11:15:00 Mom: 0.0 Acc: -0.08\n",
      "ssl mid trend slope 0.0017672344991936043\n",
      "ema mid trend slope 0.001705929884395213\n",
      "pattern not find\n",
      "4.86 minutes sleep time\n"
     ]
    }
   ],
   "source": [
    "constructor.live_pattern(interval_ssl = 5, bars_ssl = 100, period_ssl = 10, \n",
    "                                interval_ema = 5, bars_ema = 200, period_ema = 50)"
   ]
  },
  {
   "cell_type": "code",
   "execution_count": null,
   "metadata": {},
   "outputs": [],
   "source": []
  }
 ],
 "metadata": {
  "kernelspec": {
   "display_name": "Python 3",
   "language": "python",
   "name": "python3"
  },
  "language_info": {
   "codemirror_mode": {
    "name": "ipython",
    "version": 3
   },
   "file_extension": ".py",
   "mimetype": "text/x-python",
   "name": "python",
   "nbconvert_exporter": "python",
   "pygments_lexer": "ipython3",
   "version": "3.6.9"
  }
 },
 "nbformat": 4,
 "nbformat_minor": 4
}
