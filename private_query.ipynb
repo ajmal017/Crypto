{
 "cells": [
  {
   "cell_type": "code",
   "execution_count": 1,
   "metadata": {},
   "outputs": [],
   "source": [
    "import krakenex\n",
    "import pprint\n",
    "import pandas as pd\n",
    "from modules import Kraken"
   ]
  },
  {
   "cell_type": "code",
   "execution_count": 2,
   "metadata": {},
   "outputs": [],
   "source": [
    "k = krakenex.API()\n",
    "k.load_key('kraken_btc.key')"
   ]
  },
  {
   "cell_type": "code",
   "execution_count": 3,
   "metadata": {},
   "outputs": [
    {
     "data": {
      "text/plain": [
       "{'ZEUR': '10607.6005',\n",
       " 'XXBT': '0.0000000000',\n",
       " 'XXRP': '0.00000034',\n",
       " 'BAT': '0.0000000800',\n",
       " 'DOT': '0.0000000900'}"
      ]
     },
     "execution_count": 3,
     "metadata": {},
     "output_type": "execute_result"
    }
   ],
   "source": [
    "balance = k.query_private('Balance')['result']\n",
    "balance    "
   ]
  },
  {
   "cell_type": "code",
   "execution_count": 4,
   "metadata": {},
   "outputs": [
    {
     "data": {
      "text/plain": [
       "'XXBT'"
      ]
     },
     "execution_count": 4,
     "metadata": {},
     "output_type": "execute_result"
    }
   ],
   "source": [
    "list(balance.keys())[1]"
   ]
  },
  {
   "cell_type": "code",
   "execution_count": 5,
   "metadata": {},
   "outputs": [],
   "source": [
    "constructor = Kraken(pair = 'BAT/EUR', api_key_file = 'kraken_btc.key', minimum_fund=1000, percent_alloc=1,sleepage=0)"
   ]
  },
  {
   "cell_type": "code",
   "execution_count": 1,
   "metadata": {},
   "outputs": [
    {
     "data": {
      "text/plain": [
       "'pair = asset pair\\ntype = type of order (buy/sell)\\nordertype = order type:\\n    market\\n    limit (price = limit price)\\n    stop-loss (price = stop loss price)\\n    take-profit (price = take profit price)\\n    stop-loss-profit (price = stop loss price, price2 = take profit price)\\n    stop-loss-profit-limit (price = stop loss price, price2 = take profit price)\\n    stop-loss-limit (price = stop loss trigger price, price2 = triggered limit price)\\n    take-profit-limit (price = take profit trigger price, price2 = triggered limit price)\\n    trailing-stop (price = trailing stop offset)\\n    trailing-stop-limit (price = trailing stop offset, price2 = triggered limit offset)\\n    stop-loss-and-limit (price = stop loss price, price2 = limit price)\\n    settle-position\\nprice = price (optional.  dependent upon ordertype)\\nprice2 = secondary price (optional.  dependent upon ordertype)\\nvolume = order volume in lots\\nleverage = amount of leverage desired (optional.  default = none)\\noflags = comma delimited list of order flags (optional):\\n    viqc = volume in quote currency (not available for leveraged orders)\\n    fcib = prefer fee in base currency\\n    fciq = prefer fee in quote currency\\n    nompp = no market price protection\\n    post = post only order (available when ordertype = limit)\\nstarttm = scheduled start time (optional):\\n    0 = now (default)\\n    +<n> = schedule start time <n> seconds from now\\n    <n> = unix timestamp of start time\\nexpiretm = expiration time (optional):\\n    0 = no expiration (default)\\n    +<n> = expire <n> seconds from now\\n    <n> = unix timestamp of expiration time\\nuserref = user reference id.  32-bit signed number.  (optional)\\nvalidate = validate inputs only.  do not submit order (optional)\\n\\noptional closing order to add to system when order gets filled:\\n    close[ordertype] = order type\\n    close[price] = price\\n    close[price2] = secondary price'"
      ]
     },
     "execution_count": 1,
     "metadata": {},
     "output_type": "execute_result"
    }
   ],
   "source": [
    "'''pair = asset pair\n",
    "type = type of order (buy/sell)\n",
    "ordertype = order type:\n",
    "    market\n",
    "    limit (price = limit price)\n",
    "    stop-loss (price = stop loss price)\n",
    "    take-profit (price = take profit price)\n",
    "    stop-loss-profit (price = stop loss price, price2 = take profit price)\n",
    "    stop-loss-profit-limit (price = stop loss price, price2 = take profit price)\n",
    "    stop-loss-limit (price = stop loss trigger price, price2 = triggered limit price)\n",
    "    take-profit-limit (price = take profit trigger price, price2 = triggered limit price)\n",
    "    trailing-stop (price = trailing stop offset)\n",
    "    trailing-stop-limit (price = trailing stop offset, price2 = triggered limit offset)\n",
    "    stop-loss-and-limit (price = stop loss price, price2 = limit price)\n",
    "    settle-position\n",
    "price = price (optional.  dependent upon ordertype)\n",
    "price2 = secondary price (optional.  dependent upon ordertype)\n",
    "volume = order volume in lots\n",
    "leverage = amount of leverage desired (optional.  default = none)\n",
    "oflags = comma delimited list of order flags (optional):\n",
    "    viqc = volume in quote currency (not available for leveraged orders)\n",
    "    fcib = prefer fee in base currency\n",
    "    fciq = prefer fee in quote currency\n",
    "    nompp = no market price protection\n",
    "    post = post only order (available when ordertype = limit)\n",
    "starttm = scheduled start time (optional):\n",
    "    0 = now (default)\n",
    "    +<n> = schedule start time <n> seconds from now\n",
    "    <n> = unix timestamp of start time\n",
    "expiretm = expiration time (optional):\n",
    "    0 = no expiration (default)\n",
    "    +<n> = expire <n> seconds from now\n",
    "    <n> = unix timestamp of expiration time\n",
    "userref = user reference id.  32-bit signed number.  (optional)\n",
    "validate = validate inputs only.  do not submit order (optional)\n",
    "\n",
    "optional closing order to add to system when order gets filled:\n",
    "    close[ordertype] = order type\n",
    "    close[price] = price\n",
    "    close[price2] = secondary price'''"
   ]
  },
  {
   "cell_type": "code",
   "execution_count": 6,
   "metadata": {},
   "outputs": [],
   "source": [
    "response = constructor.k.query_private('AddOrder',\n",
    "                                {'pair': constructor.pair,\n",
    "                                 'type': 'buy',\n",
    "                                 'ordertype': 'market',\n",
    "                                 'volume': 5})"
   ]
  },
  {
   "cell_type": "code",
   "execution_count": 7,
   "metadata": {},
   "outputs": [
    {
     "data": {
      "text/plain": [
       "9e-08"
      ]
     },
     "execution_count": 7,
     "metadata": {},
     "output_type": "execute_result"
    }
   ],
   "source": [
    "constructor.crypto_value"
   ]
  },
  {
   "cell_type": "code",
   "execution_count": 8,
   "metadata": {},
   "outputs": [],
   "source": [
    "\n",
    "response = k.query_private('AddOrder',\n",
    "                                {'pair': 'BAT/EUR',\n",
    "                                 'type': 'buy',\n",
    "                                 'ordertype': 'limit',#mkt\n",
    "                                 'price': 0.15,\n",
    "                                 'volume': 200,\n",
    "                                 # `ordertype`, `price`, `price2` are valid\n",
    "                                 'close[ordertype]': 'stop-loss-profit',\n",
    "                                 'close[price]': 0.10,\n",
    "                                  'close[price2]':})\n",
    "                                 # these will be ignored!\n",
    "                                 #'close[type]': 'buy'})"
   ]
  },
  {
   "cell_type": "code",
   "execution_count": 9,
   "metadata": {},
   "outputs": [
    {
     "data": {
      "text/plain": [
       "{'error': [],\n",
       " 'result': {'descr': {'order': 'buy 200.00000000 BATEUR @ limit 0.15000',\n",
       "   'close': 'close position @ stop loss 0.10000'},\n",
       "  'txid': ['O4XYA4-ZLWHP-UC3HVZ']}}"
      ]
     },
     "execution_count": 9,
     "metadata": {},
     "output_type": "execute_result"
    }
   ],
   "source": [
    "response"
   ]
  },
  {
   "cell_type": "code",
   "execution_count": 11,
   "metadata": {},
   "outputs": [],
   "source": [
    "response = k.query_private('AddOrder',\n",
    "                                {'pair': 'DASH/EUR',\n",
    "                                 'type': 'buy',\n",
    "                                 'ordertype': 'market',\n",
    "                                 'volume': ,\n",
    "                                 # `ordertype`, `price`, `price2` are valid\n",
    "                                 'close[ordertype]': 'limit',\n",
    "                                 'close[price]': '8790' })"
   ]
  },
  {
   "cell_type": "code",
   "execution_count": 12,
   "metadata": {},
   "outputs": [
    {
     "data": {
      "text/plain": [
       "{'error': [],\n",
       " 'result': {'descr': {'order': 'sell 0.04912838 XBTEUR @ market',\n",
       "   'close': 'close position @ limit 8790.0'},\n",
       "  'txid': ['OXCKJK-UUAMU-VRTFJT']}}"
      ]
     },
     "execution_count": 12,
     "metadata": {},
     "output_type": "execute_result"
    }
   ],
   "source": [
    "response"
   ]
  },
  {
   "cell_type": "code",
   "execution_count": 11,
   "metadata": {},
   "outputs": [
    {
     "data": {
      "text/plain": [
       "{'error': [], 'result': {'open': {}}}"
      ]
     },
     "execution_count": 11,
     "metadata": {},
     "output_type": "execute_result"
    }
   ],
   "source": [
    "orders = k.query_private('OpenOrders')\n",
    "orders"
   ]
  },
  {
   "cell_type": "code",
   "execution_count": 18,
   "metadata": {},
   "outputs": [
    {
     "ename": "NameError",
     "evalue": "name 'orders' is not defined",
     "output_type": "error",
     "traceback": [
      "\u001b[0;31m---------------------------------------------------------------------------\u001b[0m",
      "\u001b[0;31mNameError\u001b[0m                                 Traceback (most recent call last)",
      "\u001b[0;32m<ipython-input-18-d72d16b60c1d>\u001b[0m in \u001b[0;36m<module>\u001b[0;34m\u001b[0m\n\u001b[0;32m----> 1\u001b[0;31m \u001b[0morder_id\u001b[0m \u001b[0;34m=\u001b[0m \u001b[0mlist\u001b[0m\u001b[0;34m(\u001b[0m\u001b[0morders\u001b[0m\u001b[0;34m[\u001b[0m\u001b[0;34m'result'\u001b[0m\u001b[0;34m]\u001b[0m\u001b[0;34m[\u001b[0m\u001b[0;34m'open'\u001b[0m\u001b[0;34m]\u001b[0m\u001b[0;34m.\u001b[0m\u001b[0mitems\u001b[0m\u001b[0;34m(\u001b[0m\u001b[0;34m)\u001b[0m\u001b[0;34m)\u001b[0m\u001b[0;34m[\u001b[0m\u001b[0;36m0\u001b[0m\u001b[0;34m]\u001b[0m\u001b[0;34m[\u001b[0m\u001b[0;36m0\u001b[0m\u001b[0;34m]\u001b[0m\u001b[0;34m\u001b[0m\u001b[0;34m\u001b[0m\u001b[0m\n\u001b[0m\u001b[1;32m      2\u001b[0m \u001b[0morder_id\u001b[0m\u001b[0;34m\u001b[0m\u001b[0;34m\u001b[0m\u001b[0m\n",
      "\u001b[0;31mNameError\u001b[0m: name 'orders' is not defined"
     ]
    }
   ],
   "source": [
    "order_id = list(orders['result']['open'].items())[0][0]\n",
    "order_id"
   ]
  },
  {
   "cell_type": "code",
   "execution_count": 18,
   "metadata": {},
   "outputs": [
    {
     "data": {
      "text/plain": [
       "{'error': ['EGeneral:Invalid arguments']}"
      ]
     },
     "execution_count": 18,
     "metadata": {},
     "output_type": "execute_result"
    }
   ],
   "source": [
    "response_cancel = k.query_private('CancelOrder',{\"txid\": order_id})\n",
    "response_cancel"
   ]
  },
  {
   "cell_type": "code",
   "execution_count": 4,
   "metadata": {},
   "outputs": [],
   "source": [
    "trades = k.query_private('TradesHistory')['result']['trades']"
   ]
  },
  {
   "cell_type": "code",
   "execution_count": 5,
   "metadata": {},
   "outputs": [
    {
     "data": {
      "text/plain": [
       "{'TAOQAE-WC455-7FD7F4': {'ordertxid': 'OSO4SE-JZVSW-M3H7UG',\n",
       "  'postxid': 'TKH2SE-M7IF5-CFI7LT',\n",
       "  'pair': 'XXBTZEUR',\n",
       "  'time': 1602929976.8705,\n",
       "  'type': 'sell',\n",
       "  'ordertype': 'market',\n",
       "  'price': '9692.69988',\n",
       "  'cost': '475.42470',\n",
       "  'fee': '1.23611',\n",
       "  'vol': '0.04904977',\n",
       "  'margin': '0.00000',\n",
       "  'misc': ''},\n",
       " 'T34SVO-TCSP2-PT5N6H': {'ordertxid': 'ODVHAG-EX7Q5-OAAKHV',\n",
       "  'postxid': 'TKH2SE-M7IF5-CFI7LT',\n",
       "  'pair': 'XXBTZEUR',\n",
       "  'time': 1600073137.0714,\n",
       "  'type': 'buy',\n",
       "  'ordertype': 'limit',\n",
       "  'price': '8790.00000',\n",
       "  'cost': '0.63666',\n",
       "  'fee': '0.00102',\n",
       "  'vol': '0.00007243',\n",
       "  'margin': '0.00000',\n",
       "  'misc': ''},\n",
       " 'THIHMF-AI75K-DRMYIZ': {'ordertxid': 'ODVHAG-EX7Q5-OAAKHV',\n",
       "  'postxid': 'TKH2SE-M7IF5-CFI7LT',\n",
       "  'pair': 'XXBTZEUR',\n",
       "  'time': 1600073137.0696,\n",
       "  'type': 'buy',\n",
       "  'ordertype': 'limit',\n",
       "  'price': '8790.00000',\n",
       "  'cost': '431.20180',\n",
       "  'fee': '0.68992',\n",
       "  'vol': '0.04905595',\n",
       "  'margin': '0.00000',\n",
       "  'misc': ''},\n",
       " 'TGMPQ5-5BEXZ-CFWAUC': {'ordertxid': 'OXCKJK-UUAMU-VRTFJT',\n",
       "  'postxid': 'TKH2SE-M7IF5-CFI7LT',\n",
       "  'pair': 'XXBTZEUR',\n",
       "  'time': 1600071859.4666,\n",
       "  'type': 'sell',\n",
       "  'ordertype': 'market',\n",
       "  'price': '8813.99997',\n",
       "  'cost': '433.01754',\n",
       "  'fee': '1.12585',\n",
       "  'vol': '0.04912838',\n",
       "  'margin': '0.00000',\n",
       "  'misc': ''},\n",
       " 'TRTWMR-OWS5R-T53H43': {'ordertxid': 'OO2UKL-CYBMX-JVHZSO',\n",
       "  'postxid': 'TKH2SE-M7IF5-CFI7LT',\n",
       "  'pair': 'XXBTZEUR',\n",
       "  'time': 1599385629.2682,\n",
       "  'type': 'buy',\n",
       "  'ordertype': 'limit',\n",
       "  'price': '8635.00000',\n",
       "  'cost': '11.58620',\n",
       "  'fee': '0.01854',\n",
       "  'vol': '0.00134177',\n",
       "  'margin': '0.00000',\n",
       "  'misc': ''},\n",
       " 'TEFLNB-7VYJ3-EGESWK': {'ordertxid': 'OO2UKL-CYBMX-JVHZSO',\n",
       "  'postxid': 'TKH2SE-M7IF5-CFI7LT',\n",
       "  'pair': 'XXBTZEUR',\n",
       "  'time': 1599385318.8519,\n",
       "  'type': 'buy',\n",
       "  'ordertype': 'limit',\n",
       "  'price': '8635.00000',\n",
       "  'cost': '412.63746',\n",
       "  'fee': '0.66022',\n",
       "  'vol': '0.04778662',\n",
       "  'margin': '0.00000',\n",
       "  'misc': ''},\n",
       " 'TEDQIA-BT263-IG3I4J': {'ordertxid': 'OY5Z3K-Q4DMO-MWNBZQ',\n",
       "  'postxid': 'TKH2SE-M7IF5-CFI7LT',\n",
       "  'pair': 'XXBTZEUR',\n",
       "  'time': 1599380995.685,\n",
       "  'type': 'sell',\n",
       "  'ordertype': 'limit',\n",
       "  'price': '8641.59992',\n",
       "  'cost': '426.01005',\n",
       "  'fee': '1.10762',\n",
       "  'vol': '0.04929759',\n",
       "  'margin': '0.00000',\n",
       "  'misc': ''}}"
      ]
     },
     "execution_count": 5,
     "metadata": {},
     "output_type": "execute_result"
    }
   ],
   "source": [
    "trades"
   ]
  },
  {
   "cell_type": "code",
   "execution_count": null,
   "metadata": {},
   "outputs": [],
   "source": []
  }
 ],
 "metadata": {
  "kernelspec": {
   "display_name": "Python 3",
   "language": "python",
   "name": "python3"
  },
  "language_info": {
   "codemirror_mode": {
    "name": "ipython",
    "version": 3
   },
   "file_extension": ".py",
   "mimetype": "text/x-python",
   "name": "python",
   "nbconvert_exporter": "python",
   "pygments_lexer": "ipython3",
   "version": "3.8.5"
  }
 },
 "nbformat": 4,
 "nbformat_minor": 4
}
