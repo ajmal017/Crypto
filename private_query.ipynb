{
 "cells": [
  {
   "cell_type": "code",
   "execution_count": 1,
   "metadata": {},
   "outputs": [],
   "source": [
    "import krakenex\n",
    "import pprint\n",
    "import pandas as pd"
   ]
  },
  {
   "cell_type": "code",
   "execution_count": 2,
   "metadata": {},
   "outputs": [],
   "source": [
    "k = krakenex.API()\n",
    "k.load_key('kraken.key')"
   ]
  },
  {
   "cell_type": "code",
   "execution_count": 3,
   "metadata": {},
   "outputs": [
    {
     "data": {
      "text/plain": [
       "{'ZEUR': '10474.2418', 'XXBT': '0.0000000000'}"
      ]
     },
     "execution_count": 3,
     "metadata": {},
     "output_type": "execute_result"
    }
   ],
   "source": [
    "balance = k.query_private('Balance')['result']\n",
    "balance    "
   ]
  },
  {
   "cell_type": "code",
   "execution_count": 13,
   "metadata": {},
   "outputs": [],
   "source": [
    "tickers = {'BTC/EUR':'XXBT','ETH/EUR':'XETH','DASH/EUR':'XDASH','XRP/EUR':'XXRP'}"
   ]
  },
  {
   "cell_type": "code",
   "execution_count": 5,
   "metadata": {},
   "outputs": [
    {
     "data": {
      "text/plain": [
       "'XXBT'"
      ]
     },
     "execution_count": 5,
     "metadata": {},
     "output_type": "execute_result"
    }
   ],
   "source": [
    "list(balance.keys())[1]"
   ]
  },
  {
   "cell_type": "code",
   "execution_count": 9,
   "metadata": {},
   "outputs": [
    {
     "data": {
      "text/plain": [
       "0.0532"
      ]
     },
     "execution_count": 9,
     "metadata": {},
     "output_type": "execute_result"
    }
   ],
   "source": [
    "self.fund = float(balance['ZEUR'])"
   ]
  },
  {
   "cell_type": "code",
   "execution_count": 17,
   "metadata": {},
   "outputs": [
    {
     "ename": "KeyError",
     "evalue": "'XETH'",
     "output_type": "error",
     "traceback": [
      "\u001b[0;31m---------------------------------------------------------------------------\u001b[0m",
      "\u001b[0;31mKeyError\u001b[0m                                  Traceback (most recent call last)",
      "\u001b[0;32m<ipython-input-17-91312499f74e>\u001b[0m in \u001b[0;36m<module>\u001b[0;34m\u001b[0m\n\u001b[0;32m----> 1\u001b[0;31m \u001b[0;32mif\u001b[0m \u001b[0mbalance\u001b[0m\u001b[0;34m[\u001b[0m\u001b[0mtickers\u001b[0m\u001b[0;34m[\u001b[0m\u001b[0;34m'ETH/EUR'\u001b[0m\u001b[0;34m]\u001b[0m\u001b[0;34m]\u001b[0m\u001b[0;34m:\u001b[0m\u001b[0;34m\u001b[0m\u001b[0;34m\u001b[0m\u001b[0m\n\u001b[0m\u001b[1;32m      2\u001b[0m     \u001b[0mprint\u001b[0m \u001b[0;34m(\u001b[0m\u001b[0;34m'ok'\u001b[0m\u001b[0;34m)\u001b[0m\u001b[0;34m\u001b[0m\u001b[0;34m\u001b[0m\u001b[0m\n\u001b[1;32m      3\u001b[0m \u001b[0;32melse\u001b[0m\u001b[0;34m:\u001b[0m\u001b[0;34m\u001b[0m\u001b[0;34m\u001b[0m\u001b[0m\n\u001b[1;32m      4\u001b[0m     \u001b[0;32mpass\u001b[0m\u001b[0;34m\u001b[0m\u001b[0;34m\u001b[0m\u001b[0m\n",
      "\u001b[0;31mKeyError\u001b[0m: 'XETH'"
     ]
    }
   ],
   "source": [
    "if balance[tickers['ETH/EUR']]:\n",
    "    print ('ok')\n",
    "else:\n",
    "    pass"
   ]
  },
  {
   "cell_type": "code",
   "execution_count": null,
   "metadata": {},
   "outputs": [],
   "source": [
    "if \n",
    "response = k.query_private('AddOrder',\n",
    "                                {'pair': self.pair,\n",
    "                                 'type': 'sell',\n",
    "                                 'ordertype': 'limit',\n",
    "                                 'volume': volume,\n",
    "                                 'close[ordertype]': 'limit',\n",
    "                                 'close[price]': ,\n",
    "                                 'close[price2]': })"
   ]
  },
  {
   "cell_type": "code",
   "execution_count": 6,
   "metadata": {},
   "outputs": [],
   "source": [
    "list(balance['result'].items())[1][1]\n",
    "volume = float(list(balance['result'].items())[1][1])\n"
   ]
  },
  {
   "cell_type": "code",
   "execution_count": 6,
   "metadata": {},
   "outputs": [],
   "source": [
    "limit_sell = '9000'\n",
    "\n",
    "response = k.query_private('AddOrder',\n",
    "                                {'pair': 'BTC/EUR',\n",
    "                                 'type': 'sell',\n",
    "                                 'ordertype': 'limit',#mkt\n",
    "                                 'price': limit_sell,\n",
    "                                 'volume': volume,\n",
    "                                 # `ordertype`, `price`, `price2` are valid\n",
    "                                 'close[ordertype]': 'limit',\n",
    "                                 'close[price]': '8700',\n",
    "                                 # these will be ignored!\n",
    "                                 'close[pair]': 'BTC/EUR',\n",
    "                                 'close[type]': 'buy'})"
   ]
  },
  {
   "cell_type": "code",
   "execution_count": 11,
   "metadata": {},
   "outputs": [],
   "source": [
    "response = k.query_private('AddOrder',\n",
    "                                {'pair': 'BTC/EUR',\n",
    "                                 'type': 'sell',\n",
    "                                 'ordertype': 'market',\n",
    "                                 'volume': volume,\n",
    "                                 # `ordertype`, `price`, `price2` are valid\n",
    "                                 'close[ordertype]': 'limit',\n",
    "                                 'close[price]': '8790' })"
   ]
  },
  {
   "cell_type": "code",
   "execution_count": 12,
   "metadata": {},
   "outputs": [
    {
     "data": {
      "text/plain": [
       "{'error': [],\n",
       " 'result': {'descr': {'order': 'sell 0.04912838 XBTEUR @ market',\n",
       "   'close': 'close position @ limit 8790.0'},\n",
       "  'txid': ['OXCKJK-UUAMU-VRTFJT']}}"
      ]
     },
     "execution_count": 12,
     "metadata": {},
     "output_type": "execute_result"
    }
   ],
   "source": [
    "response"
   ]
  },
  {
   "cell_type": "code",
   "execution_count": 11,
   "metadata": {},
   "outputs": [
    {
     "data": {
      "text/plain": [
       "{'error': [], 'result': {'open': {}}}"
      ]
     },
     "execution_count": 11,
     "metadata": {},
     "output_type": "execute_result"
    }
   ],
   "source": [
    "orders = k.query_private('OpenOrders')\n",
    "orders"
   ]
  },
  {
   "cell_type": "code",
   "execution_count": 18,
   "metadata": {},
   "outputs": [
    {
     "ename": "NameError",
     "evalue": "name 'orders' is not defined",
     "output_type": "error",
     "traceback": [
      "\u001b[0;31m---------------------------------------------------------------------------\u001b[0m",
      "\u001b[0;31mNameError\u001b[0m                                 Traceback (most recent call last)",
      "\u001b[0;32m<ipython-input-18-d72d16b60c1d>\u001b[0m in \u001b[0;36m<module>\u001b[0;34m\u001b[0m\n\u001b[0;32m----> 1\u001b[0;31m \u001b[0morder_id\u001b[0m \u001b[0;34m=\u001b[0m \u001b[0mlist\u001b[0m\u001b[0;34m(\u001b[0m\u001b[0morders\u001b[0m\u001b[0;34m[\u001b[0m\u001b[0;34m'result'\u001b[0m\u001b[0;34m]\u001b[0m\u001b[0;34m[\u001b[0m\u001b[0;34m'open'\u001b[0m\u001b[0;34m]\u001b[0m\u001b[0;34m.\u001b[0m\u001b[0mitems\u001b[0m\u001b[0;34m(\u001b[0m\u001b[0;34m)\u001b[0m\u001b[0;34m)\u001b[0m\u001b[0;34m[\u001b[0m\u001b[0;36m0\u001b[0m\u001b[0;34m]\u001b[0m\u001b[0;34m[\u001b[0m\u001b[0;36m0\u001b[0m\u001b[0;34m]\u001b[0m\u001b[0;34m\u001b[0m\u001b[0;34m\u001b[0m\u001b[0m\n\u001b[0m\u001b[1;32m      2\u001b[0m \u001b[0morder_id\u001b[0m\u001b[0;34m\u001b[0m\u001b[0;34m\u001b[0m\u001b[0m\n",
      "\u001b[0;31mNameError\u001b[0m: name 'orders' is not defined"
     ]
    }
   ],
   "source": [
    "order_id = list(orders['result']['open'].items())[0][0]\n",
    "order_id"
   ]
  },
  {
   "cell_type": "code",
   "execution_count": 18,
   "metadata": {},
   "outputs": [
    {
     "data": {
      "text/plain": [
       "{'error': ['EGeneral:Invalid arguments']}"
      ]
     },
     "execution_count": 18,
     "metadata": {},
     "output_type": "execute_result"
    }
   ],
   "source": [
    "response_cancel = k.query_private('CancelOrder',{\"txid\": order_id})\n",
    "response_cancel"
   ]
  },
  {
   "cell_type": "code",
   "execution_count": 4,
   "metadata": {},
   "outputs": [],
   "source": [
    "trades = k.query_private('TradesHistory')['result']['trades']"
   ]
  },
  {
   "cell_type": "code",
   "execution_count": 5,
   "metadata": {},
   "outputs": [
    {
     "data": {
      "text/plain": [
       "{'TAOQAE-WC455-7FD7F4': {'ordertxid': 'OSO4SE-JZVSW-M3H7UG',\n",
       "  'postxid': 'TKH2SE-M7IF5-CFI7LT',\n",
       "  'pair': 'XXBTZEUR',\n",
       "  'time': 1602929976.8705,\n",
       "  'type': 'sell',\n",
       "  'ordertype': 'market',\n",
       "  'price': '9692.69988',\n",
       "  'cost': '475.42470',\n",
       "  'fee': '1.23611',\n",
       "  'vol': '0.04904977',\n",
       "  'margin': '0.00000',\n",
       "  'misc': ''},\n",
       " 'T34SVO-TCSP2-PT5N6H': {'ordertxid': 'ODVHAG-EX7Q5-OAAKHV',\n",
       "  'postxid': 'TKH2SE-M7IF5-CFI7LT',\n",
       "  'pair': 'XXBTZEUR',\n",
       "  'time': 1600073137.0714,\n",
       "  'type': 'buy',\n",
       "  'ordertype': 'limit',\n",
       "  'price': '8790.00000',\n",
       "  'cost': '0.63666',\n",
       "  'fee': '0.00102',\n",
       "  'vol': '0.00007243',\n",
       "  'margin': '0.00000',\n",
       "  'misc': ''},\n",
       " 'THIHMF-AI75K-DRMYIZ': {'ordertxid': 'ODVHAG-EX7Q5-OAAKHV',\n",
       "  'postxid': 'TKH2SE-M7IF5-CFI7LT',\n",
       "  'pair': 'XXBTZEUR',\n",
       "  'time': 1600073137.0696,\n",
       "  'type': 'buy',\n",
       "  'ordertype': 'limit',\n",
       "  'price': '8790.00000',\n",
       "  'cost': '431.20180',\n",
       "  'fee': '0.68992',\n",
       "  'vol': '0.04905595',\n",
       "  'margin': '0.00000',\n",
       "  'misc': ''},\n",
       " 'TGMPQ5-5BEXZ-CFWAUC': {'ordertxid': 'OXCKJK-UUAMU-VRTFJT',\n",
       "  'postxid': 'TKH2SE-M7IF5-CFI7LT',\n",
       "  'pair': 'XXBTZEUR',\n",
       "  'time': 1600071859.4666,\n",
       "  'type': 'sell',\n",
       "  'ordertype': 'market',\n",
       "  'price': '8813.99997',\n",
       "  'cost': '433.01754',\n",
       "  'fee': '1.12585',\n",
       "  'vol': '0.04912838',\n",
       "  'margin': '0.00000',\n",
       "  'misc': ''},\n",
       " 'TRTWMR-OWS5R-T53H43': {'ordertxid': 'OO2UKL-CYBMX-JVHZSO',\n",
       "  'postxid': 'TKH2SE-M7IF5-CFI7LT',\n",
       "  'pair': 'XXBTZEUR',\n",
       "  'time': 1599385629.2682,\n",
       "  'type': 'buy',\n",
       "  'ordertype': 'limit',\n",
       "  'price': '8635.00000',\n",
       "  'cost': '11.58620',\n",
       "  'fee': '0.01854',\n",
       "  'vol': '0.00134177',\n",
       "  'margin': '0.00000',\n",
       "  'misc': ''},\n",
       " 'TEFLNB-7VYJ3-EGESWK': {'ordertxid': 'OO2UKL-CYBMX-JVHZSO',\n",
       "  'postxid': 'TKH2SE-M7IF5-CFI7LT',\n",
       "  'pair': 'XXBTZEUR',\n",
       "  'time': 1599385318.8519,\n",
       "  'type': 'buy',\n",
       "  'ordertype': 'limit',\n",
       "  'price': '8635.00000',\n",
       "  'cost': '412.63746',\n",
       "  'fee': '0.66022',\n",
       "  'vol': '0.04778662',\n",
       "  'margin': '0.00000',\n",
       "  'misc': ''},\n",
       " 'TEDQIA-BT263-IG3I4J': {'ordertxid': 'OY5Z3K-Q4DMO-MWNBZQ',\n",
       "  'postxid': 'TKH2SE-M7IF5-CFI7LT',\n",
       "  'pair': 'XXBTZEUR',\n",
       "  'time': 1599380995.685,\n",
       "  'type': 'sell',\n",
       "  'ordertype': 'limit',\n",
       "  'price': '8641.59992',\n",
       "  'cost': '426.01005',\n",
       "  'fee': '1.10762',\n",
       "  'vol': '0.04929759',\n",
       "  'margin': '0.00000',\n",
       "  'misc': ''}}"
      ]
     },
     "execution_count": 5,
     "metadata": {},
     "output_type": "execute_result"
    }
   ],
   "source": [
    "trades"
   ]
  },
  {
   "cell_type": "code",
   "execution_count": null,
   "metadata": {},
   "outputs": [],
   "source": []
  }
 ],
 "metadata": {
  "kernelspec": {
   "display_name": "Python 3",
   "language": "python",
   "name": "python3"
  },
  "language_info": {
   "codemirror_mode": {
    "name": "ipython",
    "version": 3
   },
   "file_extension": ".py",
   "mimetype": "text/x-python",
   "name": "python",
   "nbconvert_exporter": "python",
   "pygments_lexer": "ipython3",
   "version": "3.6.9"
  }
 },
 "nbformat": 4,
 "nbformat_minor": 4
}
