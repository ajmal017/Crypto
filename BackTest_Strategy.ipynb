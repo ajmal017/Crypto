{
 "cells": [
  {
   "cell_type": "code",
   "execution_count": 1,
   "metadata": {},
   "outputs": [],
   "source": [
    "import numpy as np\n",
    "import pandas as pd\n",
    "from modules import Kraken\n",
    "from modules import TrendLine"
   ]
  },
  {
   "cell_type": "code",
   "execution_count": 2,
   "metadata": {},
   "outputs": [],
   "source": [
    "import datetime\n",
    "import matplotlib.dates as mdates\n",
    "from pandas.plotting import register_matplotlib_converters\n",
    "register_matplotlib_converters()\n",
    "import matplotlib.pyplot as plt "
   ]
  },
  {
   "cell_type": "code",
   "execution_count": 3,
   "metadata": {},
   "outputs": [],
   "source": [
    "from sklearn.linear_model import LinearRegression"
   ]
  },
  {
   "cell_type": "code",
   "execution_count": 4,
   "metadata": {},
   "outputs": [],
   "source": [
    "constructor = Kraken(pair = 'DOT/EUR', \n",
    "                     api_key_file = 'kraken.key',\n",
    "                     minimum_fund = 500, \n",
    "                     percent_alloc = 0.5)"
   ]
  },
  {
   "cell_type": "code",
   "execution_count": 5,
   "metadata": {},
   "outputs": [
    {
     "ename": "HTTPError",
     "evalue": "503 Server Error: Service Unavailable for url: https://api.kraken.com/0/public/OHLC",
     "output_type": "error",
     "traceback": [
      "\u001b[0;31m---------------------------------------------------------------------------\u001b[0m",
      "\u001b[0;31mHTTPError\u001b[0m                                 Traceback (most recent call last)",
      "\u001b[0;32m<ipython-input-5-c34b92920728>\u001b[0m in \u001b[0;36m<module>\u001b[0;34m\u001b[0m\n\u001b[1;32m      1\u001b[0m \u001b[0mdf_daily\u001b[0m \u001b[0;34m=\u001b[0m \u001b[0mconstructor\u001b[0m\u001b[0;34m.\u001b[0m\u001b[0mohlcv\u001b[0m\u001b[0;34m(\u001b[0m\u001b[0;36m60\u001b[0m\u001b[0;34m*\u001b[0m\u001b[0;36m24\u001b[0m\u001b[0;34m,\u001b[0m\u001b[0;36m1000\u001b[0m\u001b[0;34m)\u001b[0m\u001b[0;34m\u001b[0m\u001b[0;34m\u001b[0m\u001b[0m\n\u001b[0;32m----> 2\u001b[0;31m \u001b[0mdf_ssl\u001b[0m \u001b[0;34m=\u001b[0m \u001b[0mconstructor\u001b[0m\u001b[0;34m.\u001b[0m\u001b[0mohlcv\u001b[0m\u001b[0;34m(\u001b[0m\u001b[0;36m60\u001b[0m\u001b[0;34m,\u001b[0m\u001b[0;36m1000\u001b[0m\u001b[0;34m)\u001b[0m\u001b[0;34m\u001b[0m\u001b[0;34m\u001b[0m\u001b[0m\n\u001b[0m\u001b[1;32m      3\u001b[0m \u001b[0;34m\u001b[0m\u001b[0m\n\u001b[1;32m      4\u001b[0m \u001b[0mbull\u001b[0m\u001b[0;34m,\u001b[0m\u001b[0mbear\u001b[0m \u001b[0;34m=\u001b[0m \u001b[0mconstructor\u001b[0m\u001b[0;34m.\u001b[0m\u001b[0mtr_zones\u001b[0m\u001b[0;34m(\u001b[0m\u001b[0mdf_daily\u001b[0m\u001b[0;34m,\u001b[0m \u001b[0;36m4\u001b[0m\u001b[0;34m)\u001b[0m\u001b[0;34m\u001b[0m\u001b[0;34m\u001b[0m\u001b[0m\n\u001b[1;32m      5\u001b[0m \u001b[0mbull_h\u001b[0m\u001b[0;34m,\u001b[0m\u001b[0mbear_h\u001b[0m \u001b[0;34m=\u001b[0m \u001b[0mconstructor\u001b[0m\u001b[0;34m.\u001b[0m\u001b[0mtr_zones\u001b[0m\u001b[0;34m(\u001b[0m\u001b[0mdf_ssl\u001b[0m\u001b[0;34m,\u001b[0m \u001b[0;36m3\u001b[0m\u001b[0;34m)\u001b[0m\u001b[0;34m\u001b[0m\u001b[0;34m\u001b[0m\u001b[0m\n",
      "\u001b[0;32m~/Desktop/Programming/Crypto/modules/kraken_api.py\u001b[0m in \u001b[0;36mohlcv\u001b[0;34m(self, interval, bars)\u001b[0m\n\u001b[1;32m    253\u001b[0m         \u001b[0msince\u001b[0m \u001b[0;34m=\u001b[0m \u001b[0msince\u001b[0m\u001b[0;34m.\u001b[0m\u001b[0mtimestamp\u001b[0m\u001b[0;34m(\u001b[0m\u001b[0;34m)\u001b[0m\u001b[0;34m\u001b[0m\u001b[0;34m\u001b[0m\u001b[0m\n\u001b[1;32m    254\u001b[0m \u001b[0;34m\u001b[0m\u001b[0m\n\u001b[0;32m--> 255\u001b[0;31m         \u001b[0mret\u001b[0m \u001b[0;34m=\u001b[0m \u001b[0mself\u001b[0m\u001b[0;34m.\u001b[0m\u001b[0mk\u001b[0m\u001b[0;34m.\u001b[0m\u001b[0mquery_public\u001b[0m\u001b[0;34m(\u001b[0m\u001b[0mmethod\u001b[0m\u001b[0;34m=\u001b[0m\u001b[0;34m'OHLC'\u001b[0m\u001b[0;34m,\u001b[0m \u001b[0mdata\u001b[0m \u001b[0;34m=\u001b[0m \u001b[0;34m{\u001b[0m\u001b[0;34m'pair'\u001b[0m\u001b[0;34m:\u001b[0m \u001b[0mself\u001b[0m\u001b[0;34m.\u001b[0m\u001b[0mpair\u001b[0m\u001b[0;34m,\u001b[0m \u001b[0;34m'since'\u001b[0m\u001b[0;34m:\u001b[0m \u001b[0msince\u001b[0m\u001b[0;34m,\u001b[0m \u001b[0;34m'interval'\u001b[0m\u001b[0;34m:\u001b[0m \u001b[0minterval\u001b[0m\u001b[0;34m}\u001b[0m\u001b[0;34m)\u001b[0m\u001b[0;34m\u001b[0m\u001b[0;34m\u001b[0m\u001b[0m\n\u001b[0m\u001b[1;32m    256\u001b[0m \u001b[0;34m\u001b[0m\u001b[0m\n\u001b[1;32m    257\u001b[0m         \u001b[0marray\u001b[0m \u001b[0;34m=\u001b[0m \u001b[0mret\u001b[0m\u001b[0;34m[\u001b[0m\u001b[0;34m'result'\u001b[0m\u001b[0;34m]\u001b[0m\u001b[0;34m[\u001b[0m\u001b[0mlist\u001b[0m\u001b[0;34m(\u001b[0m\u001b[0mret\u001b[0m\u001b[0;34m[\u001b[0m\u001b[0;34m'result'\u001b[0m\u001b[0;34m]\u001b[0m\u001b[0;34m.\u001b[0m\u001b[0mkeys\u001b[0m\u001b[0;34m(\u001b[0m\u001b[0;34m)\u001b[0m\u001b[0;34m)\u001b[0m\u001b[0;34m[\u001b[0m\u001b[0;36m0\u001b[0m\u001b[0;34m]\u001b[0m\u001b[0;34m]\u001b[0m\u001b[0;34m\u001b[0m\u001b[0;34m\u001b[0m\u001b[0m\n",
      "\u001b[0;32m/usr/local/lib/python3.6/dist-packages/krakenex/api.py\u001b[0m in \u001b[0;36mquery_public\u001b[0;34m(self, method, data, timeout)\u001b[0m\n\u001b[1;32m    160\u001b[0m         \u001b[0murlpath\u001b[0m \u001b[0;34m=\u001b[0m \u001b[0;34m'/'\u001b[0m \u001b[0;34m+\u001b[0m \u001b[0mself\u001b[0m\u001b[0;34m.\u001b[0m\u001b[0mapiversion\u001b[0m \u001b[0;34m+\u001b[0m \u001b[0;34m'/public/'\u001b[0m \u001b[0;34m+\u001b[0m \u001b[0mmethod\u001b[0m\u001b[0;34m\u001b[0m\u001b[0;34m\u001b[0m\u001b[0m\n\u001b[1;32m    161\u001b[0m \u001b[0;34m\u001b[0m\u001b[0m\n\u001b[0;32m--> 162\u001b[0;31m         \u001b[0;32mreturn\u001b[0m \u001b[0mself\u001b[0m\u001b[0;34m.\u001b[0m\u001b[0m_query\u001b[0m\u001b[0;34m(\u001b[0m\u001b[0murlpath\u001b[0m\u001b[0;34m,\u001b[0m \u001b[0mdata\u001b[0m\u001b[0;34m,\u001b[0m \u001b[0mtimeout\u001b[0m \u001b[0;34m=\u001b[0m \u001b[0mtimeout\u001b[0m\u001b[0;34m)\u001b[0m\u001b[0;34m\u001b[0m\u001b[0;34m\u001b[0m\u001b[0m\n\u001b[0m\u001b[1;32m    163\u001b[0m \u001b[0;34m\u001b[0m\u001b[0m\n\u001b[1;32m    164\u001b[0m     \u001b[0;32mdef\u001b[0m \u001b[0mquery_private\u001b[0m\u001b[0;34m(\u001b[0m\u001b[0mself\u001b[0m\u001b[0;34m,\u001b[0m \u001b[0mmethod\u001b[0m\u001b[0;34m,\u001b[0m \u001b[0mdata\u001b[0m\u001b[0;34m=\u001b[0m\u001b[0;32mNone\u001b[0m\u001b[0;34m,\u001b[0m \u001b[0mtimeout\u001b[0m\u001b[0;34m=\u001b[0m\u001b[0;32mNone\u001b[0m\u001b[0;34m)\u001b[0m\u001b[0;34m:\u001b[0m\u001b[0;34m\u001b[0m\u001b[0;34m\u001b[0m\u001b[0m\n",
      "\u001b[0;32m/usr/local/lib/python3.6/dist-packages/krakenex/api.py\u001b[0m in \u001b[0;36m_query\u001b[0;34m(self, urlpath, data, headers, timeout)\u001b[0m\n\u001b[1;32m    136\u001b[0m \u001b[0;34m\u001b[0m\u001b[0m\n\u001b[1;32m    137\u001b[0m         \u001b[0;32mif\u001b[0m \u001b[0mself\u001b[0m\u001b[0;34m.\u001b[0m\u001b[0mresponse\u001b[0m\u001b[0;34m.\u001b[0m\u001b[0mstatus_code\u001b[0m \u001b[0;32mnot\u001b[0m \u001b[0;32min\u001b[0m \u001b[0;34m(\u001b[0m\u001b[0;36m200\u001b[0m\u001b[0;34m,\u001b[0m \u001b[0;36m201\u001b[0m\u001b[0;34m,\u001b[0m \u001b[0;36m202\u001b[0m\u001b[0;34m)\u001b[0m\u001b[0;34m:\u001b[0m\u001b[0;34m\u001b[0m\u001b[0;34m\u001b[0m\u001b[0m\n\u001b[0;32m--> 138\u001b[0;31m             \u001b[0mself\u001b[0m\u001b[0;34m.\u001b[0m\u001b[0mresponse\u001b[0m\u001b[0;34m.\u001b[0m\u001b[0mraise_for_status\u001b[0m\u001b[0;34m(\u001b[0m\u001b[0;34m)\u001b[0m\u001b[0;34m\u001b[0m\u001b[0;34m\u001b[0m\u001b[0m\n\u001b[0m\u001b[1;32m    139\u001b[0m \u001b[0;34m\u001b[0m\u001b[0m\n\u001b[1;32m    140\u001b[0m         \u001b[0;32mreturn\u001b[0m \u001b[0mself\u001b[0m\u001b[0;34m.\u001b[0m\u001b[0mresponse\u001b[0m\u001b[0;34m.\u001b[0m\u001b[0mjson\u001b[0m\u001b[0;34m(\u001b[0m\u001b[0;34m**\u001b[0m\u001b[0mself\u001b[0m\u001b[0;34m.\u001b[0m\u001b[0m_json_options\u001b[0m\u001b[0;34m)\u001b[0m\u001b[0;34m\u001b[0m\u001b[0;34m\u001b[0m\u001b[0m\n",
      "\u001b[0;32m~/.local/lib/python3.6/site-packages/requests/models.py\u001b[0m in \u001b[0;36mraise_for_status\u001b[0;34m(self)\u001b[0m\n\u001b[1;32m    939\u001b[0m \u001b[0;34m\u001b[0m\u001b[0m\n\u001b[1;32m    940\u001b[0m         \u001b[0;32mif\u001b[0m \u001b[0mhttp_error_msg\u001b[0m\u001b[0;34m:\u001b[0m\u001b[0;34m\u001b[0m\u001b[0;34m\u001b[0m\u001b[0m\n\u001b[0;32m--> 941\u001b[0;31m             \u001b[0;32mraise\u001b[0m \u001b[0mHTTPError\u001b[0m\u001b[0;34m(\u001b[0m\u001b[0mhttp_error_msg\u001b[0m\u001b[0;34m,\u001b[0m \u001b[0mresponse\u001b[0m\u001b[0;34m=\u001b[0m\u001b[0mself\u001b[0m\u001b[0;34m)\u001b[0m\u001b[0;34m\u001b[0m\u001b[0;34m\u001b[0m\u001b[0m\n\u001b[0m\u001b[1;32m    942\u001b[0m \u001b[0;34m\u001b[0m\u001b[0m\n\u001b[1;32m    943\u001b[0m     \u001b[0;32mdef\u001b[0m \u001b[0mclose\u001b[0m\u001b[0;34m(\u001b[0m\u001b[0mself\u001b[0m\u001b[0;34m)\u001b[0m\u001b[0;34m:\u001b[0m\u001b[0;34m\u001b[0m\u001b[0;34m\u001b[0m\u001b[0m\n",
      "\u001b[0;31mHTTPError\u001b[0m: 503 Server Error: Service Unavailable for url: https://api.kraken.com/0/public/OHLC"
     ]
    }
   ],
   "source": [
    "df_daily = constructor.ohlcv(60*24,1000)\n",
    "df_ssl = constructor.ohlcv(60,1000)\n",
    "\n",
    "bull,bear = constructor.tr_zones(df_daily, 4)\n",
    "bull_h,bear_h = constructor.tr_zones(df_ssl, 3)\n",
    "\n",
    "df_ssl = constructor.recognize_candlestick(df_ssl)\n",
    "\n",
    "df_ssl = constructor.ssl(df_ssl, 30)\n",
    "df_ssl = constructor.stochastic(df = df_ssl,\n",
    "                                fastk_period = 20, \n",
    "                                slowk_period = 3, \n",
    "                                slowd_period = 3)\n",
    "\n",
    "df_daily = constructor.ema(df_daily,144)"
   ]
  },
  {
   "cell_type": "code",
   "execution_count": null,
   "metadata": {},
   "outputs": [],
   "source": [
    "tr = TrendLine(df = df_ssl, errpct= 0.005, col = 'close')\n",
    "tr_daily = TrendLine(df = df_daily, errpct= 0.005, col = 'close')"
   ]
  },
  {
   "cell_type": "code",
   "execution_count": null,
   "metadata": {},
   "outputs": [],
   "source": [
    "minimaIdxs, maximaIdxs = tr.get_extrema(True), tr.get_extrema(False)\n",
    "mintrend, maxtrend = tr.houghpt_trendln(minimaIdxs), tr.houghpt_trendln(maximaIdxs)\n",
    "#mintrend, maxtrend = tr.naive_trendln(minimaIdxs), tr.naive_trendln(maximaIdxs)\n",
    "#mintrend, maxtrend = tr.sorted_slope_trendln(minimaIdxs), tr.sorted_slope_trendln(maximaIdxs)\n",
    "#mintrend, maxtrend = tr.hough_trendln(minimaIdxs), tr.hough_trendln(maximaIdxs)\n",
    "df,m_mid,c_mid = tr.trendln(mintrend,maxtrend)"
   ]
  },
  {
   "cell_type": "code",
   "execution_count": null,
   "metadata": {},
   "outputs": [],
   "source": [
    "minimaIdxs_daily, maximaIdxs_daily = tr_daily.get_extrema(True), tr_daily.get_extrema(False)\n",
    "mintrend_daily, maxtrend_daily = tr_daily.sorted_slope_trendln(minimaIdxs_daily), tr_daily.sorted_slope_trendln(maximaIdxs_daily)\n",
    "df_daily,m_mid_daily,c_mid_daily = tr_daily.trendln(mintrend_daily,maxtrend_daily)"
   ]
  },
  {
   "cell_type": "code",
   "execution_count": null,
   "metadata": {},
   "outputs": [],
   "source": [
    "def rolling_regression(df,reg_range):\n",
    "\n",
    "    multi_reg = []\n",
    "    for i in range(0,len(df.index),10): \n",
    "        \n",
    "        j= i +10\n",
    "        \n",
    "        if i == 0:\n",
    "            x = np.array(range(len(df.close.index)))[-j:].reshape(-1,1)\n",
    "            y = df.close.iloc[-j:].values.reshape(-1,1)\n",
    "            \n",
    "        else:\n",
    "            x = np.array(range(len(df.close.index)))[-j:-i].reshape(-1,1)\n",
    "            y = df.close.iloc[-j:-i].values.reshape(-1,1)\n",
    "            \n",
    "\n",
    "        reg = LinearRegression().fit(X = x, y = y)\n",
    "        y_pred = reg.predict(x).flatten()\n",
    "        multi_reg.append([y_pred,x,y,reg.coef_[0]])\n",
    "        \n",
    "    return multi_reg"
   ]
  },
  {
   "cell_type": "code",
   "execution_count": null,
   "metadata": {},
   "outputs": [],
   "source": [
    "multi_reg = rolling_regression(df_daily, 10)"
   ]
  },
  {
   "cell_type": "markdown",
   "metadata": {},
   "source": [
    "## Visual"
   ]
  },
  {
   "cell_type": "code",
   "execution_count": null,
   "metadata": {},
   "outputs": [],
   "source": [
    "fig, ax = plt.subplots(3, 1,figsize=(30, 20))\n",
    "\n",
    "ax[1].plot(df.close,\n",
    "        color='k')\n",
    "\n",
    "ax[0].plot(df_daily.close,\n",
    "        color='k')\n",
    "ax[0].plot(df_daily.ema,\n",
    "        color='orange')\n",
    "\n",
    "ax[2].plot(df_ssl.slowd,\n",
    "        color='purple')\n",
    "\n",
    "ax[2].plot(df_ssl.slowk,\n",
    "        color='blue')\n",
    "\n",
    "ax[0].axhline(y= max(df_daily.close),color='gray', ls = ':')\n",
    "ax[0].axhline(y= min(df_daily.close),color='gray', ls = ':')\n",
    "ax[0].axhline(y= bear, color='gray', ls = ':')\n",
    "ax[0].axhline(y= bull, color='gray', ls = ':')\n",
    "\n",
    "\n",
    "ax[0].fill_between(df_daily.index, max(df_daily.close), bear, color = 'red',\n",
    "                   alpha=0.2, interpolate=True)\n",
    "ax[0].fill_between(df_daily.index, min(df_daily.close), bull, color = 'green',\n",
    "                   alpha=0.2, interpolate=True)\n",
    "\n",
    "\n",
    "ax[1].axhline(y= max(df_ssl.close),color='gray', ls = ':')\n",
    "ax[1].axhline(y= min(df_ssl.close),color='gray', ls = ':')\n",
    "ax[1].axhline(y= bear_h, color='gray', ls = ':')\n",
    "ax[1].axhline(y= bull_h, color='gray', ls = ':')\n",
    "\n",
    "\n",
    "ax[1].fill_between(df_ssl.index, max(df_ssl.close), bear_h, color = 'red',\n",
    "                   alpha=0.2, interpolate=True)\n",
    "ax[1].fill_between(df_ssl.index, min(df_ssl.close), bull_h, color = 'green',\n",
    "                   alpha=0.2, interpolate=True)\n",
    "\n",
    "\n",
    "\n",
    "ax[0].scatter(df_daily.close.iloc[maximaIdxs_daily].index,\n",
    "           df_daily.close.iloc[maximaIdxs_daily].values,color = 'blue',edgecolors = 'k')\n",
    "\n",
    "ax[0].scatter(df_daily.close.iloc[minimaIdxs_daily].index,\n",
    "           df_daily.close.iloc[minimaIdxs_daily].values,color = 'orange',edgecolors = 'k')\n",
    "\n",
    "\n",
    "ax[1].scatter(df.close.iloc[maximaIdxs].index,\n",
    "           df.close.iloc[maximaIdxs].values,color = 'blue',edgecolors = 'k')\n",
    "\n",
    "ax[1].scatter(df.close.iloc[minimaIdxs].index,\n",
    "           df.close.iloc[minimaIdxs].values,color = 'orange',edgecolors = 'k')\n",
    "\n",
    "ax[2].axhline(y= 80, color='gray', ls = ':')\n",
    "ax[2].axhline(y= 20, color='gray', ls = ':')\n",
    "\n",
    "\n",
    "ax[2].fill_between(df_ssl.index, 80, 20, color = 'purple',\n",
    "                   alpha=0.4, interpolate=True)\n",
    "\n",
    "# ax[1].plot(df.support.index,\n",
    "#            df.support.values, color = 'green', ls = ':')\n",
    "\n",
    "# ax[1].plot(df.resistance.index,\n",
    "#            df.resistance.values, color = 'red', ls = ':')\n",
    "\n",
    "# ax[1].plot(df.mid.index,\n",
    "#            df.mid.values, color = 'blue', ls = ':')\n",
    "\n",
    "for i in multi_reg:\n",
    "\n",
    "    ax[0].plot(np.array(df_daily.index[i[1]]).flatten(),\n",
    "               i[0].flatten(), color = 'blue', lw = 2)\n",
    "\n",
    "for i,t in enumerate(df.index):\n",
    "    if ((df.green[i-1] > df.red[i-1]) and (df.green[i-2] < df.red[i-2]) and (df.green[i-3] < df.red[i-3]) and (df.green[i-4] < df.red[i-4]) and (df.green[i-5] < df.red[i-5]) and (df.green[i-6] < df.red[i-6])) and (df.close[i]<bull_h):\n",
    "        ax[1].annotate('', xy=(t,df.close.loc[t]), xytext=(t,df.close.loc[t]*0.990),\n",
    "                    arrowprops={'arrowstyle': '->', 'lw': 4, 'color': 'green'})\n",
    "        \n",
    "    elif ((df.green[i-1] < df.red[i-1]) and (df.green[i-2] > df.red[i-2]) and (df.green[i-3] > df.red[i-3]) and (df.green[i-4] > df.red[i-4]) and (df.green[i-5] > df.red[i-5]) and (df.green[i-6] > df.red[i-6])) and (df.close[i]>bear_h):\n",
    "        ax[1].annotate('', xy=(t,df.close.loc[t]), xytext=(t,df.close.loc[t]*1.0100),\n",
    "                    arrowprops={'arrowstyle': '->', 'lw': 4, 'color': 'red'})\n",
    "\n",
    "for i,t in enumerate(df.index):\n",
    "        \n",
    "    bull = (((df.slowk[i-1]<20) and (df.slowd[i-1]<20)) and (df.slowk[i-1] < df.slowd[i-1]) and (df.slowk[i] > df.slowd[i]))\n",
    "    bear = (((df.slowk[i-1]>80) and (df.slowd[i-1]>80)) and (df.slowk[i-1] > df.slowd[i-1]) and (df.slowk[i] < df.slowd[i]))\n",
    "    \n",
    "    if bull and (df.close[i]<bull_h):\n",
    "        ax[1].annotate('', xy=(t,df.close.loc[t]), xytext=(t,df.close.loc[t]*0.990),\n",
    "            arrowprops={'arrowstyle': '->', 'lw': 4, 'color': 'yellow'})\n",
    "        \n",
    "    elif bear and (df.close[i]>bear_h):\n",
    "        ax[1].annotate('', xy=(t,df.close.loc[t]), xytext=(t,df.close.loc[t]*1.0100),\n",
    "                    arrowprops={'arrowstyle': '->', 'lw': 4, 'color': 'orange'})\n",
    "        \n",
    "# ax.plot(df.close.iloc[mintrend[-1][0]], color = 'red')\n",
    "# ax.plot(df.close.iloc[maxtrend[-1][0]],color = 'green')\n",
    "\n",
    "ax[1].fill_between(df.index, df.green, df.red, color = 'green',\n",
    "                   where = (df.red <= df.green),alpha=0.2, interpolate=True)\n",
    "\n",
    "ax[1].fill_between(df.index, df.green, df.red, color = 'red',\n",
    "                   where = (df.red >= df.green),alpha=0.2, interpolate=True)\n",
    "\n",
    "for t in df_daily.iloc[minimaIdxs_daily].index:\n",
    "    ax[0].annotate(df_daily['Mom Acc'].loc[t], (t, df_daily['close'].loc[t]),\n",
    "                textcoords='data',xytext = (t, 0.9700 *df_daily['close'].loc[t]))\n",
    "    \n",
    "for t in df_daily.iloc[minimaIdxs_daily].index:\n",
    "    ax[0].annotate(df_daily['Mom'].loc[t], (t, df_daily['close'].loc[t]),\n",
    "                textcoords='data',xytext = (t, 0.940 *df_daily['close'].loc[t]),color='purple')\n",
    "    \n",
    "for t in df_daily.iloc[maximaIdxs_daily].index:\n",
    "    ax[0].annotate(df_daily['Mom Acc'].loc[t], (t, df_daily['close'].loc[t]),\n",
    "                textcoords='data',xytext = (t, 1.0300 *df_daily['close'].loc[t]))    \n",
    "    \n",
    "for t in df_daily.iloc[maximaIdxs_daily].index:\n",
    "    ax[0].annotate(df_daily['Mom'].loc[t], (t, df_daily['close'].loc[t]),\n",
    "                textcoords='data',xytext = (t, 1.050 *df_daily['close'].loc[t]),color='purple')   \n",
    "    \n",
    "ax[0].set(ylabel=\"Price\",title='daily')\n",
    "ax[1].set(ylabel=\"Price\",title='1 hour')\n",
    "ax[2].set(xlabel = 'time', ylabel=\"Price\",title='5 min')\n",
    "\n",
    "plt.setp(ax[0].get_xticklabels(), rotation=90)\n",
    "plt.setp(ax[1].get_xticklabels(), rotation=90)\n",
    "plt.setp(ax[2].get_xticklabels(), rotation=90)\n",
    "\n",
    "ax[0].grid(True)\n",
    "ax[1].grid(True)\n",
    "ax[2].grid(True)\n",
    "\n",
    "ax[0].xaxis.set_major_locator(mdates.DayLocator(interval=6)) \n",
    "ax[1].xaxis.set_major_locator(mdates.DayLocator(interval=6)) \n",
    "ax[2].xaxis.set_major_locator(mdates.DayLocator(interval=6)) \n",
    "\n",
    "\n",
    "fig.tight_layout()\n",
    "plt.show();"
   ]
  },
  {
   "cell_type": "code",
   "execution_count": 12,
   "metadata": {},
   "outputs": [],
   "source": [
    "import sys\n"
   ]
  },
  {
   "cell_type": "code",
   "execution_count": 13,
   "metadata": {},
   "outputs": [
    {
     "data": {
      "text/plain": [
       "['/usr/lib/python36.zip',\n",
       " '/usr/lib/python3.6',\n",
       " '/usr/lib/python3.6/lib-dynload',\n",
       " '',\n",
       " '/home/k13104/.local/lib/python3.6/site-packages',\n",
       " '/usr/local/lib/python3.6/dist-packages',\n",
       " '/usr/lib/python3/dist-packages',\n",
       " '/usr/local/lib/python3.6/dist-packages/IPython/extensions',\n",
       " '/home/k13104/.ipython']"
      ]
     },
     "execution_count": 13,
     "metadata": {},
     "output_type": "execute_result"
    }
   ],
   "source": [
    "sys.path"
   ]
  },
  {
   "cell_type": "code",
   "execution_count": null,
   "metadata": {},
   "outputs": [],
   "source": []
  }
 ],
 "metadata": {
  "kernelspec": {
   "display_name": "Python 3",
   "language": "python",
   "name": "python3"
  }
 },
 "nbformat": 4,
 "nbformat_minor": 4
}
